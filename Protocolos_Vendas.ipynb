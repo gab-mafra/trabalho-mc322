{
 "cells": [
  {
   "cell_type": "code",
   "execution_count": null,
   "metadata": {},
   "outputs": [],
   "source": [
    "public interface Grafico{\n",
    "    public void criarGrafico(String dataSource); //cria um grafico com as frequencias das doenças\n",
    "}\n",
    "public interface ArvoreDecisoes{\n",
    "    public Raiz criar(String dataSource); //cria uma arvore de decisao\n",
    "    public String buscar(Raiz arvore,String[]sintomas); //busca em uma arvore de decisao a doença\n",
    "}\n",
    "public interface ProtocoloUrgencia extends Grafico{\n",
    "    public String urgencia(String[]sintomas); //classifica as doenças em prioridade \n",
    "}"
   ]
  }
 ],
 "metadata": {
  "kernelspec": {
   "display_name": "Java",
   "language": "java",
   "name": "java"
  },
  "language_info": {
   "codemirror_mode": "java",
   "file_extension": ".java",
   "mimetype": "text/x-java-source",
   "name": "Java",
   "pygments_lexer": "java",
   "version": "10.0.1+10-Debian-4"
  }
 },
 "nbformat": 4,
 "nbformat_minor": 2
}
