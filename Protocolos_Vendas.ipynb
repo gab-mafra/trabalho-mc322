{
 "cells": [
  {
   "cell_type": "markdown",
   "metadata": {},
   "source": [
    "# Descrição dos componentes\n",
    "\n",
    "Essa é a nossa descrição dos componentes que iremos levar para o mercado de componentes"
   ]
  },
  {
   "cell_type": "markdown",
   "metadata": {},
   "source": [
    "### Grafico de Frequencia\n",
    "\n",
    "Esse componente recebe o data set e cria um grafico de barras com a frequecia das doenças, para identificar as doenças mais frequentes, para facilitar o diagnóstico."
   ]
  },
  {
   "cell_type": "code",
   "execution_count": null,
   "metadata": {},
   "outputs": [],
   "source": [
    "public interface Grafico{\n",
    "    public void criarGrafico(String dataSource); //cria um grafico com as frequencias das doenças\n",
    "}"
   ]
  },
  {
   "cell_type": "markdown",
   "metadata": {},
   "source": [
    "### Árvore de decisões\n",
    "\n",
    "Esse componente recebe o data set, cria uma árvore de decisões afim de otimizar as perguntas feitas pelo Doutor, além de buscar uma deonça na mesma árvore."
   ]
  },
  {
   "cell_type": "code",
   "execution_count": null,
   "metadata": {},
   "outputs": [],
   "source": [
    "public interface ArvoreDecisoes{\n",
    "    public Raiz criar(String dataSource); //cria uma arvore de decisao\n",
    "    public String buscar(Raiz arvore,String[]sintomas); //busca em uma arvore de decisao a doença\n",
    "}"
   ]
  },
  {
   "cell_type": "markdown",
   "metadata": {},
   "source": [
    "### Protocolo de Urgência\n",
    "\n",
    "Esse componente recebe a string que representa os sintomas do Paciente, e retorna o nível de urgência de seu atendimento, variando entre \"máxima\", \"alta\", \"média\" ou \"baixa\", de forma similar aos pronto-socorros do Brasil."
   ]
  },
  {
   "cell_type": "code",
   "execution_count": null,
   "metadata": {},
   "outputs": [],
   "source": [
    "public interface PtcUrgencia extends Grafico{\n",
    "    public String urgencia(String[]sintomas); //classifica as doenças em prioridade \n",
    "}"
   ]
  }
 ],
 "metadata": {
  "kernelspec": {
   "display_name": "Java",
   "language": "java",
   "name": "java"
  },
  "language_info": {
   "codemirror_mode": "java",
   "file_extension": ".java",
   "mimetype": "text/x-java-source",
   "name": "Java",
   "pygments_lexer": "java",
   "version": "10.0.1+10-Debian-4"
  }
 },
 "nbformat": 4,
 "nbformat_minor": 2
}
