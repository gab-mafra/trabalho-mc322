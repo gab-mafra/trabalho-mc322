{
 "cells": [
  {
   "cell_type": "markdown",
   "metadata": {},
   "source": [
    "# Implementação da Parte 1 do Trabalho\n",
    "\n",
    "Essa é a nossa implementação da primeira parte do trabalho de MC322. Nela iremos implementar as intefaces `IEnquirer`, `IResponder`, `IDataSource`, `ITableProducer` (dadas pelo professor) e seus respectivos receptaculos, em classes chamadas `Doctor`, `Patient`(criadas pelo grupo) e `DataSet` (criada pelo professor).\n",
    "\n",
    "`Doctor` deve ser capaz de interagir com um `Patient` e, através de perguntas, ser capaz de diagnosticar a doença do paciente.\n",
    "\n",
    "`Patient` deve ser capaz de sortear uma doença da lista armazenada no banco de doenças, e responder ao Doutor para que tal seje capaz de diagnosticar sua doença."
   ]
  },
  {
   "cell_type": "markdown",
   "metadata": {},
   "source": [
    "## Interfaces relacionadas ao `DataSet`\n",
    "\n",
    "Essas interfaces serão implementadas pela componente `DataSet`, ou fazem a conexão dessa componente com outras componentes."
   ]
  },
  {
   "cell_type": "code",
   "execution_count": 1,
   "metadata": {},
   "outputs": [],
   "source": [
    "//Essa interface define os metodos usados para definir o Data Source\n",
    "public interface IDataSource {\n",
    "  public String getDataSource();\n",
    "  public void setDataSource(String dataSource);\n",
    "}\n",
    "\n",
    "//Essa interface define os metodos que geram a tabela de atributos e instancias do Data Set\n",
    "public interface ITableProducer {\n",
    "  String[] requestAttributes();\n",
    "  String[][] requestInstances();\n",
    "}\n",
    "\n",
    "//Essa interface faz a conexao com a interface ITableProducer\n",
    "public interface ITableProducerReceptacle {\n",
    "  public void connect(ITableProducer producer);\n",
    "}\n",
    "\n",
    "//Combinando as interfaces do DataSet em IDataSet\n",
    "public interface IDataSet extends IDataSource, ITableProducer {\n",
    "}"
   ]
  },
  {
   "cell_type": "markdown",
   "metadata": {},
   "source": [
    "## Componente `DataSet`\n",
    "\n",
    "Essa componente implementa e configura um DataSet que contém as doenças e seus sintomas"
   ]
  },
  {
   "cell_type": "code",
   "execution_count": 2,
   "metadata": {},
   "outputs": [],
   "source": [
    "//importando as bibliotecas usadas pelo DataSet\n",
    "import java.io.BufferedReader;\n",
    "import java.io.FileReader;\n",
    "import java.io.IOException;\n",
    "import java.util.ArrayList;\n",
    "\n",
    "\n",
    "public class DataSetComponent implements IDataSet {\n",
    "  private String dataSource = null;\n",
    "  private String[] attributes = null;\n",
    "  private String[][] instances = null;\n",
    "  \n",
    "  public DataSetComponent() {\n",
    "    /* nothing */\n",
    "  }\n",
    "\n",
    "  public String getDataSource() {\n",
    "    return dataSource;\n",
    "  }\n",
    "\n",
    "  public void setDataSource(String dataSource) {\n",
    "    this.dataSource = dataSource;\n",
    "    if (dataSource == null) {\n",
    "      attributes = null;\n",
    "      instances = null;\n",
    "    } else\n",
    "      readDS();\n",
    "  }\n",
    "  \n",
    "  public String[] requestAttributes() {\n",
    "    return attributes;\n",
    "  }\n",
    "  \n",
    "  public String[][] requestInstances() {\n",
    "    return instances;\n",
    "  }\n",
    "  \n",
    "  private void readDS() {\n",
    "    ArrayList<String[]> instArray = new ArrayList<String[]>();\n",
    "    try {\n",
    "      BufferedReader file = new BufferedReader(new FileReader(dataSource));\n",
    "        \n",
    "      String line = file.readLine();\n",
    "      if (line != null) {\n",
    "        attributes = line.split(\",\");\n",
    "        line = file.readLine();\n",
    "        while (line != null) {\n",
    "          String[] instLine = line.split(\",\");\n",
    "          instArray.add(instLine);\n",
    "          line = file.readLine();\n",
    "        }\n",
    "        instances = instArray.toArray(new String[0][]);\n",
    "      }\n",
    "        \n",
    "      file.close();\n",
    "    } catch (IOException erro) {\n",
    "      erro.printStackTrace();\n",
    "    }\n",
    "  }\n",
    "  \n",
    "}"
   ]
  },
  {
   "cell_type": "markdown",
   "metadata": {},
   "source": [
    "## Interfaces relacionadas ao `Patient`\n",
    "\n",
    "Essas interfaces serão implementadas pela componente `Patient`, ou fazem a conexão dessa componente com outras componentes."
   ]
  },
  {
   "cell_type": "code",
   "execution_count": 3,
   "metadata": {},
   "outputs": [],
   "source": [
    "//Essa interface define os metodos usados para respostas\n",
    "public interface IResponder {\n",
    "    public String ask(String question);\n",
    "    public boolean finalAnswer(String answer);\n",
    "}\n",
    "\n",
    "//Essa interface faz a conexao com a interface IResponder\n",
    "public interface IResponderReceptacle {\n",
    "    public void connect(IResponder responder);\n",
    "}\n",
    "\n",
    "//Combinando as interfaces do Patient em IPatient\n",
    "public interface IPatient extends IResponder, ITableProducerReceptacle {\n",
    "}"
   ]
  },
  {
   "cell_type": "markdown",
   "metadata": {},
   "source": [
    "## Componente `Patient`\n",
    "\n",
    "Essa componente implementará os métodos de `IPatient` com a finalidade de armazenar uma doença aleatória e seus sintomas. Ele será conectado à componente `Doctor` (que irá diagnosticar esse paciente) e se conectará à componente `DataSet` (que armazena as possíveis doenças e seus sintomas)."
   ]
  },
  {
   "cell_type": "code",
   "execution_count": 4,
   "metadata": {},
   "outputs": [
    {
     "ename": "CompilationException",
     "evalue": "",
     "output_type": "error",
     "traceback": [
      "\u001b[1m\u001b[30m|   \u001b[1m\u001b[30m\u001b[0m\u001b[1m\u001b[30m\u001b[41m\u001b[0m",
      "\u001b[1m\u001b[30m|   \u001b[1m\u001b[30m\u001b[41m\u001b[0m",
      "\u001b[1m\u001b[30m|   \u001b[1m\u001b[30m\u001b[41mpublic class Patient implements IPatient{\u001b[0m",
      "\u001b[1m\u001b[30m|   \u001b[1m\u001b[30m\u001b[41m    \u001b[0m",
      "\u001b[1m\u001b[30m|   \u001b[1m\u001b[30m\u001b[41m}\u001b[0m",
      "\u001b[1m\u001b[31mPatient is not abstract and does not override abstract method finalAnswer(java.lang.String) in IResponder\u001b[0m",
      ""
     ]
    }
   ],
   "source": [
    "//importando a biblioteca de numeros aleatorios\n",
    "import java.util.Random;\n",
    "\n",
    "public class Patient implements IPatient{\n",
    "    \n",
    "}"
   ]
  },
  {
   "cell_type": "markdown",
   "metadata": {},
   "source": [
    "## Interfaces relacionadas ao `Doctor`\n",
    "\n",
    "Essas interfaces serão implementadas pela componente `Doctor`."
   ]
  },
  {
   "cell_type": "code",
   "execution_count": 5,
   "metadata": {},
   "outputs": [],
   "source": [
    "//Essa interface define os metodos usados para iniciar o diagnostico\n",
    "public interface IEnquirer {\n",
    "    public void startInterview();\n",
    "}\n",
    "\n",
    "//Combinando as interfaces do Doctor em IDoctor\n",
    "public interface IDoctor extends IEnquirer, IResponderReceptacle, ITableProducerReceptacle {\n",
    "}"
   ]
  },
  {
   "cell_type": "markdown",
   "metadata": {},
   "source": [
    "## Componente `Doctor`\n",
    "\n",
    "Essa componente implementará os métodos de `IDoctor` com a finalidade de diagnosticar uma doença de um paciente. Ele componente se conecta à componente `Patient` (para diagnosticar sua doença) e à componente `DataSet` (para gerar o diagnóstico) "
   ]
  },
  {
   "cell_type": "code",
   "execution_count": null,
   "metadata": {},
   "outputs": [],
   "source": []
  }
 ],
 "metadata": {
  "kernelspec": {
   "display_name": "Java",
   "language": "java",
   "name": "java"
  },
  "language_info": {
   "codemirror_mode": "java",
   "file_extension": ".java",
   "mimetype": "text/x-java-source",
   "name": "Java",
   "pygments_lexer": "java",
   "version": "10.0.1+10-Debian-4"
  }
 },
 "nbformat": 4,
 "nbformat_minor": 2
}
